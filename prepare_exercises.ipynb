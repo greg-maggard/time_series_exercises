{
 "cells": [
  {
   "cell_type": "code",
   "execution_count": 1,
   "id": "8ca0d94a",
   "metadata": {},
   "outputs": [],
   "source": [
    "import acquire\n",
    "import prepare\n",
    "\n",
    "import pandas as pd\n",
    "import matplotlib.pyplot as plt"
   ]
  },
  {
   "cell_type": "markdown",
   "id": "f2e65db3",
   "metadata": {},
   "source": [
    "# Store Item Data:"
   ]
  },
  {
   "cell_type": "code",
   "execution_count": null,
   "id": "75c6c4e8",
   "metadata": {},
   "outputs": [],
   "source": [
    "#Acquiring the data:\n",
    "df = acquire.get_store_item_sales_data()"
   ]
  },
  {
   "cell_type": "code",
   "execution_count": null,
   "id": "48d14149",
   "metadata": {},
   "outputs": [],
   "source": [
    "df.head()"
   ]
  },
  {
   "cell_type": "markdown",
   "id": "e99e8481",
   "metadata": {},
   "source": [
    "## 1. Convert date column to datetime format. "
   ]
  },
  {
   "cell_type": "code",
   "execution_count": null,
   "id": "7160b94b",
   "metadata": {},
   "outputs": [],
   "source": [
    "#Adding line below from Adam's review to eliminate the extra timestamp:\n",
    "df.sale_date = df.sale_date.apply(lambda date: date[:-13])\n",
    "#Converting the column to datetime:\n",
    "df.sale_date = pd.to_datetime(df.sale_date, format='%a, %d %b %Y')"
   ]
  },
  {
   "cell_type": "markdown",
   "id": "d0e22ab0",
   "metadata": {},
   "source": [
    "## 2. Plot the distribution of sale_amount and item_price."
   ]
  },
  {
   "cell_type": "code",
   "execution_count": null,
   "id": "2e70116b",
   "metadata": {},
   "outputs": [],
   "source": [
    "#creating a histogram of sale amounts:\n",
    "df.sale_amount.hist()"
   ]
  },
  {
   "cell_type": "code",
   "execution_count": null,
   "id": "1c7afa87",
   "metadata": {},
   "outputs": [],
   "source": [
    "#Creating a histogram of item prices:\n",
    "df.item_price.hist()"
   ]
  },
  {
   "cell_type": "markdown",
   "id": "604d3d5e",
   "metadata": {},
   "source": [
    "## 3. Set the index to be the datetime variable."
   ]
  },
  {
   "cell_type": "code",
   "execution_count": null,
   "id": "27682ae2",
   "metadata": {},
   "outputs": [],
   "source": [
    "#Setting the index to the date and sorting by the date:\n",
    "df = df.set_index('sale_date').sort_index()"
   ]
  },
  {
   "cell_type": "code",
   "execution_count": null,
   "id": "84eea2a3",
   "metadata": {},
   "outputs": [],
   "source": [
    "df.head()"
   ]
  },
  {
   "cell_type": "markdown",
   "id": "953f0ccd",
   "metadata": {},
   "source": [
    "## 4. Add a 'month' and 'day of week' column to your dataframe."
   ]
  },
  {
   "cell_type": "code",
   "execution_count": null,
   "id": "3126dcf1",
   "metadata": {},
   "outputs": [],
   "source": [
    "df['month'] = df.index.strftime('%B')\n",
    "df.head(1)"
   ]
  },
  {
   "cell_type": "code",
   "execution_count": null,
   "id": "213641da",
   "metadata": {},
   "outputs": [],
   "source": [
    "df['day_of_week'] = df.index.strftime('%A')\n",
    "df.head(1)"
   ]
  },
  {
   "cell_type": "markdown",
   "id": "ac3be24d",
   "metadata": {},
   "source": [
    "## 5. Add a column to your dataframe, sales_total, which is a derived from sale_amount (total items) and item_price."
   ]
  },
  {
   "cell_type": "code",
   "execution_count": null,
   "id": "de73cd63",
   "metadata": {},
   "outputs": [],
   "source": [
    "df['sales_total'] = df.sale_amount * df.item_price\n",
    "df.head()"
   ]
  },
  {
   "cell_type": "markdown",
   "id": "85e7eaa5",
   "metadata": {},
   "source": [
    "## 6. Make sure all the work that you have done above is reproducible. That is, you should put the code above into separate functions and be able to re-run the functions and get the same results."
   ]
  },
  {
   "cell_type": "markdown",
   "id": "6c065491",
   "metadata": {},
   "source": [
    "Functions added in prepare.py file (tested below)."
   ]
  },
  {
   "cell_type": "markdown",
   "id": "024c4ed3",
   "metadata": {},
   "source": [
    "# OPS Data:"
   ]
  },
  {
   "cell_type": "code",
   "execution_count": null,
   "id": "a2eac284",
   "metadata": {},
   "outputs": [],
   "source": [
    "df = acquire.get_german_energy_data()\n",
    "df.sample(n=5)"
   ]
  },
  {
   "cell_type": "code",
   "execution_count": null,
   "id": "10860708",
   "metadata": {},
   "outputs": [],
   "source": [
    "#Making all columns lower case for simplicity:\n",
    "df.columns = [x.lower() for x in df.columns]"
   ]
  },
  {
   "cell_type": "markdown",
   "id": "0cf6f85e",
   "metadata": {},
   "source": [
    "## 1. Convert date column to datetime format."
   ]
  },
  {
   "cell_type": "code",
   "execution_count": null,
   "id": "57c0c1d3",
   "metadata": {},
   "outputs": [],
   "source": [
    "#Converting the date column to datetime with the appropriate format:\n",
    "df.date = pd.to_datetime(df.date, format='%Y-%m-%d')"
   ]
  },
  {
   "cell_type": "markdown",
   "id": "7eefea07",
   "metadata": {},
   "source": [
    "## 2. Plot the distribution of each of your variables."
   ]
  },
  {
   "cell_type": "code",
   "execution_count": null,
   "id": "a5f47940",
   "metadata": {},
   "outputs": [],
   "source": [
    "df.consumption.hist()"
   ]
  },
  {
   "cell_type": "code",
   "execution_count": null,
   "id": "7af2852e",
   "metadata": {},
   "outputs": [],
   "source": [
    "df.wind.hist()"
   ]
  },
  {
   "cell_type": "code",
   "execution_count": null,
   "id": "af594a98",
   "metadata": {},
   "outputs": [],
   "source": [
    "df.solar.hist()"
   ]
  },
  {
   "cell_type": "code",
   "execution_count": null,
   "id": "b123d298",
   "metadata": {},
   "outputs": [],
   "source": [
    "df['wind+solar'].hist()"
   ]
  },
  {
   "cell_type": "markdown",
   "id": "9efedc58",
   "metadata": {},
   "source": [
    "## 3. Set the index to be the datetime variable."
   ]
  },
  {
   "cell_type": "code",
   "execution_count": null,
   "id": "c547bcb0",
   "metadata": {},
   "outputs": [],
   "source": [
    "df = df.set_index('date').sort_index()\n",
    "df.head(1)"
   ]
  },
  {
   "cell_type": "markdown",
   "id": "3cad55e6",
   "metadata": {},
   "source": [
    "## 4. Add a month and a year column to your dataframe."
   ]
  },
  {
   "cell_type": "code",
   "execution_count": null,
   "id": "7bbc188c",
   "metadata": {},
   "outputs": [],
   "source": [
    "df['month'] = df.index.strftime('%B')\n",
    "df.head(1)"
   ]
  },
  {
   "cell_type": "code",
   "execution_count": null,
   "id": "eb237a2c",
   "metadata": {},
   "outputs": [],
   "source": [
    "df['year'] = df.index.strftime('%Y')\n",
    "df.head(1)"
   ]
  },
  {
   "cell_type": "markdown",
   "id": "d77e44e0",
   "metadata": {},
   "source": [
    "## 5. Fill any missing values."
   ]
  },
  {
   "cell_type": "code",
   "execution_count": null,
   "id": "056dd01c",
   "metadata": {},
   "outputs": [],
   "source": [
    "#Replacing all null values with 0:\n",
    "df = df.fillna(0)"
   ]
  },
  {
   "cell_type": "markdown",
   "id": "b9d149d8",
   "metadata": {},
   "source": [
    "## 6. Make sure all the work that you have done above is reproducible. That is, you should put the code above into separate functions and be able to re-run the functions and get the same results."
   ]
  },
  {
   "cell_type": "markdown",
   "id": "9501dd8a",
   "metadata": {},
   "source": [
    "Functions added in prepare.py file (tested below)."
   ]
  },
  {
   "cell_type": "markdown",
   "id": "4e08daf9",
   "metadata": {},
   "source": [
    "# Testing the functions"
   ]
  },
  {
   "cell_type": "code",
   "execution_count": 2,
   "id": "4fcb1a30",
   "metadata": {},
   "outputs": [
    {
     "data": {
      "text/html": [
       "<div>\n",
       "<style scoped>\n",
       "    .dataframe tbody tr th:only-of-type {\n",
       "        vertical-align: middle;\n",
       "    }\n",
       "\n",
       "    .dataframe tbody tr th {\n",
       "        vertical-align: top;\n",
       "    }\n",
       "\n",
       "    .dataframe thead th {\n",
       "        text-align: right;\n",
       "    }\n",
       "</style>\n",
       "<table border=\"1\" class=\"dataframe\">\n",
       "  <thead>\n",
       "    <tr style=\"text-align: right;\">\n",
       "      <th></th>\n",
       "      <th>item_brand</th>\n",
       "      <th>item_id</th>\n",
       "      <th>item_name</th>\n",
       "      <th>item_price</th>\n",
       "      <th>item_upc12</th>\n",
       "      <th>item_upc14</th>\n",
       "      <th>sale_amount</th>\n",
       "      <th>sale_id</th>\n",
       "      <th>store_id</th>\n",
       "      <th>store_address</th>\n",
       "      <th>store_city</th>\n",
       "      <th>store_state</th>\n",
       "      <th>store_zipcode</th>\n",
       "      <th>month</th>\n",
       "      <th>day_of_week</th>\n",
       "      <th>sales_total</th>\n",
       "    </tr>\n",
       "    <tr>\n",
       "      <th>sale_date</th>\n",
       "      <th></th>\n",
       "      <th></th>\n",
       "      <th></th>\n",
       "      <th></th>\n",
       "      <th></th>\n",
       "      <th></th>\n",
       "      <th></th>\n",
       "      <th></th>\n",
       "      <th></th>\n",
       "      <th></th>\n",
       "      <th></th>\n",
       "      <th></th>\n",
       "      <th></th>\n",
       "      <th></th>\n",
       "      <th></th>\n",
       "      <th></th>\n",
       "    </tr>\n",
       "  </thead>\n",
       "  <tbody>\n",
       "    <tr>\n",
       "      <th>2013-01-01</th>\n",
       "      <td>Riceland</td>\n",
       "      <td>1</td>\n",
       "      <td>Riceland American Jazmine Rice</td>\n",
       "      <td>0.84</td>\n",
       "      <td>35200264013</td>\n",
       "      <td>35200264013</td>\n",
       "      <td>13.0</td>\n",
       "      <td>1</td>\n",
       "      <td>1</td>\n",
       "      <td>12125 Alamo Ranch Pkwy</td>\n",
       "      <td>San Antonio</td>\n",
       "      <td>TX</td>\n",
       "      <td>78253</td>\n",
       "      <td>January</td>\n",
       "      <td>Tuesday</td>\n",
       "      <td>10.92</td>\n",
       "    </tr>\n",
       "    <tr>\n",
       "      <th>2013-01-01</th>\n",
       "      <td>Mueller</td>\n",
       "      <td>12</td>\n",
       "      <td>Mueller Sport Care Basic Support Level Medium ...</td>\n",
       "      <td>8.40</td>\n",
       "      <td>74676640211</td>\n",
       "      <td>74676640211</td>\n",
       "      <td>26.0</td>\n",
       "      <td>211817</td>\n",
       "      <td>7</td>\n",
       "      <td>12018 Perrin Beitel Rd</td>\n",
       "      <td>San Antonio</td>\n",
       "      <td>TX</td>\n",
       "      <td>78217</td>\n",
       "      <td>January</td>\n",
       "      <td>Tuesday</td>\n",
       "      <td>218.40</td>\n",
       "    </tr>\n",
       "    <tr>\n",
       "      <th>2013-01-01</th>\n",
       "      <td>Mama Marys</td>\n",
       "      <td>46</td>\n",
       "      <td>Pizza Sauce</td>\n",
       "      <td>4.65</td>\n",
       "      <td>35457770664</td>\n",
       "      <td>35457770664</td>\n",
       "      <td>27.0</td>\n",
       "      <td>832657</td>\n",
       "      <td>7</td>\n",
       "      <td>12018 Perrin Beitel Rd</td>\n",
       "      <td>San Antonio</td>\n",
       "      <td>TX</td>\n",
       "      <td>78217</td>\n",
       "      <td>January</td>\n",
       "      <td>Tuesday</td>\n",
       "      <td>125.55</td>\n",
       "    </tr>\n",
       "    <tr>\n",
       "      <th>2013-01-01</th>\n",
       "      <td>Mueller</td>\n",
       "      <td>12</td>\n",
       "      <td>Mueller Sport Care Basic Support Level Medium ...</td>\n",
       "      <td>8.40</td>\n",
       "      <td>74676640211</td>\n",
       "      <td>74676640211</td>\n",
       "      <td>54.0</td>\n",
       "      <td>213643</td>\n",
       "      <td>8</td>\n",
       "      <td>15000 San Pedro Ave</td>\n",
       "      <td>San Antonio</td>\n",
       "      <td>TX</td>\n",
       "      <td>78232</td>\n",
       "      <td>January</td>\n",
       "      <td>Tuesday</td>\n",
       "      <td>453.60</td>\n",
       "    </tr>\n",
       "    <tr>\n",
       "      <th>2013-01-01</th>\n",
       "      <td>Mueller</td>\n",
       "      <td>12</td>\n",
       "      <td>Mueller Sport Care Basic Support Level Medium ...</td>\n",
       "      <td>8.40</td>\n",
       "      <td>74676640211</td>\n",
       "      <td>74676640211</td>\n",
       "      <td>35.0</td>\n",
       "      <td>215469</td>\n",
       "      <td>9</td>\n",
       "      <td>735 SW Military Dr</td>\n",
       "      <td>San Antonio</td>\n",
       "      <td>TX</td>\n",
       "      <td>78221</td>\n",
       "      <td>January</td>\n",
       "      <td>Tuesday</td>\n",
       "      <td>294.00</td>\n",
       "    </tr>\n",
       "  </tbody>\n",
       "</table>\n",
       "</div>"
      ],
      "text/plain": [
       "            item_brand  item_id  \\\n",
       "sale_date                         \n",
       "2013-01-01    Riceland        1   \n",
       "2013-01-01     Mueller       12   \n",
       "2013-01-01  Mama Marys       46   \n",
       "2013-01-01     Mueller       12   \n",
       "2013-01-01     Mueller       12   \n",
       "\n",
       "                                                    item_name  item_price  \\\n",
       "sale_date                                                                   \n",
       "2013-01-01                     Riceland American Jazmine Rice        0.84   \n",
       "2013-01-01  Mueller Sport Care Basic Support Level Medium ...        8.40   \n",
       "2013-01-01                                        Pizza Sauce        4.65   \n",
       "2013-01-01  Mueller Sport Care Basic Support Level Medium ...        8.40   \n",
       "2013-01-01  Mueller Sport Care Basic Support Level Medium ...        8.40   \n",
       "\n",
       "             item_upc12   item_upc14  sale_amount  sale_id  store_id  \\\n",
       "sale_date                                                              \n",
       "2013-01-01  35200264013  35200264013         13.0        1         1   \n",
       "2013-01-01  74676640211  74676640211         26.0   211817         7   \n",
       "2013-01-01  35457770664  35457770664         27.0   832657         7   \n",
       "2013-01-01  74676640211  74676640211         54.0   213643         8   \n",
       "2013-01-01  74676640211  74676640211         35.0   215469         9   \n",
       "\n",
       "                     store_address   store_city store_state  store_zipcode  \\\n",
       "sale_date                                                                    \n",
       "2013-01-01  12125 Alamo Ranch Pkwy  San Antonio          TX          78253   \n",
       "2013-01-01  12018 Perrin Beitel Rd  San Antonio          TX          78217   \n",
       "2013-01-01  12018 Perrin Beitel Rd  San Antonio          TX          78217   \n",
       "2013-01-01     15000 San Pedro Ave  San Antonio          TX          78232   \n",
       "2013-01-01      735 SW Military Dr  San Antonio          TX          78221   \n",
       "\n",
       "              month day_of_week  sales_total  \n",
       "sale_date                                     \n",
       "2013-01-01  January     Tuesday        10.92  \n",
       "2013-01-01  January     Tuesday       218.40  \n",
       "2013-01-01  January     Tuesday       125.55  \n",
       "2013-01-01  January     Tuesday       453.60  \n",
       "2013-01-01  January     Tuesday       294.00  "
      ]
     },
     "execution_count": 2,
     "metadata": {},
     "output_type": "execute_result"
    }
   ],
   "source": [
    "sd = prepare.prepare_store_data()\n",
    "sd.head()"
   ]
  },
  {
   "cell_type": "code",
   "execution_count": 5,
   "id": "a3f08a01",
   "metadata": {},
   "outputs": [
    {
     "data": {
      "text/html": [
       "<div>\n",
       "<style scoped>\n",
       "    .dataframe tbody tr th:only-of-type {\n",
       "        vertical-align: middle;\n",
       "    }\n",
       "\n",
       "    .dataframe tbody tr th {\n",
       "        vertical-align: top;\n",
       "    }\n",
       "\n",
       "    .dataframe thead th {\n",
       "        text-align: right;\n",
       "    }\n",
       "</style>\n",
       "<table border=\"1\" class=\"dataframe\">\n",
       "  <thead>\n",
       "    <tr style=\"text-align: right;\">\n",
       "      <th></th>\n",
       "      <th>consumption</th>\n",
       "      <th>wind</th>\n",
       "      <th>solar</th>\n",
       "      <th>wind+solar</th>\n",
       "      <th>month</th>\n",
       "      <th>year</th>\n",
       "    </tr>\n",
       "    <tr>\n",
       "      <th>date</th>\n",
       "      <th></th>\n",
       "      <th></th>\n",
       "      <th></th>\n",
       "      <th></th>\n",
       "      <th></th>\n",
       "      <th></th>\n",
       "    </tr>\n",
       "  </thead>\n",
       "  <tbody>\n",
       "    <tr>\n",
       "      <th>2006-04-11</th>\n",
       "      <td>1419.301</td>\n",
       "      <td>0.000</td>\n",
       "      <td>0.000</td>\n",
       "      <td>0.000</td>\n",
       "      <td>April</td>\n",
       "      <td>2006</td>\n",
       "    </tr>\n",
       "    <tr>\n",
       "      <th>2006-05-18</th>\n",
       "      <td>1365.406</td>\n",
       "      <td>0.000</td>\n",
       "      <td>0.000</td>\n",
       "      <td>0.000</td>\n",
       "      <td>May</td>\n",
       "      <td>2006</td>\n",
       "    </tr>\n",
       "    <tr>\n",
       "      <th>2008-07-04</th>\n",
       "      <td>1355.638</td>\n",
       "      <td>0.000</td>\n",
       "      <td>0.000</td>\n",
       "      <td>0.000</td>\n",
       "      <td>July</td>\n",
       "      <td>2008</td>\n",
       "    </tr>\n",
       "    <tr>\n",
       "      <th>2009-06-13</th>\n",
       "      <td>1034.662</td>\n",
       "      <td>0.000</td>\n",
       "      <td>0.000</td>\n",
       "      <td>0.000</td>\n",
       "      <td>June</td>\n",
       "      <td>2009</td>\n",
       "    </tr>\n",
       "    <tr>\n",
       "      <th>2011-07-19</th>\n",
       "      <td>1350.734</td>\n",
       "      <td>40.553</td>\n",
       "      <td>0.000</td>\n",
       "      <td>0.000</td>\n",
       "      <td>July</td>\n",
       "      <td>2011</td>\n",
       "    </tr>\n",
       "    <tr>\n",
       "      <th>2011-11-30</th>\n",
       "      <td>1533.630</td>\n",
       "      <td>186.166</td>\n",
       "      <td>0.000</td>\n",
       "      <td>0.000</td>\n",
       "      <td>November</td>\n",
       "      <td>2011</td>\n",
       "    </tr>\n",
       "    <tr>\n",
       "      <th>2013-03-28</th>\n",
       "      <td>1343.532</td>\n",
       "      <td>95.495</td>\n",
       "      <td>74.997</td>\n",
       "      <td>170.492</td>\n",
       "      <td>March</td>\n",
       "      <td>2013</td>\n",
       "    </tr>\n",
       "    <tr>\n",
       "      <th>2015-01-07</th>\n",
       "      <td>1569.872</td>\n",
       "      <td>227.208</td>\n",
       "      <td>17.113</td>\n",
       "      <td>244.321</td>\n",
       "      <td>January</td>\n",
       "      <td>2015</td>\n",
       "    </tr>\n",
       "    <tr>\n",
       "      <th>2015-11-03</th>\n",
       "      <td>1524.191</td>\n",
       "      <td>27.695</td>\n",
       "      <td>79.488</td>\n",
       "      <td>107.183</td>\n",
       "      <td>November</td>\n",
       "      <td>2015</td>\n",
       "    </tr>\n",
       "    <tr>\n",
       "      <th>2016-10-28</th>\n",
       "      <td>1480.316</td>\n",
       "      <td>375.774</td>\n",
       "      <td>40.042</td>\n",
       "      <td>415.816</td>\n",
       "      <td>October</td>\n",
       "      <td>2016</td>\n",
       "    </tr>\n",
       "  </tbody>\n",
       "</table>\n",
       "</div>"
      ],
      "text/plain": [
       "            consumption     wind   solar  wind+solar     month  year\n",
       "date                                                                \n",
       "2006-04-11     1419.301    0.000   0.000       0.000     April  2006\n",
       "2006-05-18     1365.406    0.000   0.000       0.000       May  2006\n",
       "2008-07-04     1355.638    0.000   0.000       0.000      July  2008\n",
       "2009-06-13     1034.662    0.000   0.000       0.000      June  2009\n",
       "2011-07-19     1350.734   40.553   0.000       0.000      July  2011\n",
       "2011-11-30     1533.630  186.166   0.000       0.000  November  2011\n",
       "2013-03-28     1343.532   95.495  74.997     170.492     March  2013\n",
       "2015-01-07     1569.872  227.208  17.113     244.321   January  2015\n",
       "2015-11-03     1524.191   27.695  79.488     107.183  November  2015\n",
       "2016-10-28     1480.316  375.774  40.042     415.816   October  2016"
      ]
     },
     "execution_count": 5,
     "metadata": {},
     "output_type": "execute_result"
    }
   ],
   "source": [
    "ed = prepare.prepare_energy_data()\n",
    "ed.sample(n=10).sort_index()"
   ]
  },
  {
   "cell_type": "code",
   "execution_count": null,
   "id": "7ac1b6d0",
   "metadata": {},
   "outputs": [],
   "source": []
  },
  {
   "cell_type": "code",
   "execution_count": null,
   "id": "e2f43171",
   "metadata": {},
   "outputs": [],
   "source": []
  }
 ],
 "metadata": {
  "kernelspec": {
   "display_name": "Python 3 (ipykernel)",
   "language": "python",
   "name": "python3"
  },
  "language_info": {
   "codemirror_mode": {
    "name": "ipython",
    "version": 3
   },
   "file_extension": ".py",
   "mimetype": "text/x-python",
   "name": "python",
   "nbconvert_exporter": "python",
   "pygments_lexer": "ipython3",
   "version": "3.9.7"
  }
 },
 "nbformat": 4,
 "nbformat_minor": 5
}
