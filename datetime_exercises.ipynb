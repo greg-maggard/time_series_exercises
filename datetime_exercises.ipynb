{
 "cells": [
  {
   "cell_type": "code",
   "execution_count": null,
   "id": "66fc7130",
   "metadata": {},
   "outputs": [],
   "source": [
    "import pandas as pd\n",
    "import matplotlib as plt\n",
    "plt.rcParams[\"figure.figsize\"] = (16,9)\n",
    "plt.rcParams[\"font.size\"] = 20\n",
    "import seaborn as sns\n",
    "\n",
    "import warnings\n",
    "warnings.filterwarnings('ignore')\n",
    "\n",
    "from vega_datasets import data"
   ]
  },
  {
   "cell_type": "markdown",
   "id": "df27a446",
   "metadata": {},
   "source": [
    "# Importing the SF Temperature Data:"
   ]
  },
  {
   "cell_type": "code",
   "execution_count": null,
   "id": "b29f2ee0",
   "metadata": {},
   "outputs": [],
   "source": [
    "sf = data.sf_temps()\n",
    "sf.head()"
   ]
  },
  {
   "cell_type": "markdown",
   "id": "cf01dff6",
   "metadata": {},
   "source": [
    "# <span style = 'color:blue'>San Francisco Exercises:</span>"
   ]
  },
  {
   "cell_type": "markdown",
   "id": "e0a22f09",
   "metadata": {},
   "source": [
    "## 1. Resample by the day and take the average temperature. Visualize the average temperature over time."
   ]
  },
  {
   "cell_type": "code",
   "execution_count": null,
   "id": "0a3e1f9b",
   "metadata": {},
   "outputs": [],
   "source": [
    "#Setting the date as the index, and sorting the dates in order:\n",
    "sf = sf.set_index('date').sort_index()\n",
    "sf"
   ]
  },
  {
   "cell_type": "code",
   "execution_count": null,
   "id": "845d131d",
   "metadata": {},
   "outputs": [],
   "source": [
    "#Plotting the distribution of dates over time:\n",
    "sf.temp.plot()"
   ]
  },
  {
   "cell_type": "code",
   "execution_count": null,
   "id": "9fffdba2",
   "metadata": {},
   "outputs": [],
   "source": [
    "#Resampling the data by day to visualize the data over time:\n",
    "sf.resample('1D').mean().plot()"
   ]
  },
  {
   "cell_type": "markdown",
   "id": "7d499821",
   "metadata": {},
   "source": [
    "## 2. Write the code necessary to visualize the minimum temperature over time."
   ]
  },
  {
   "cell_type": "code",
   "execution_count": null,
   "id": "e8a59a97",
   "metadata": {},
   "outputs": [],
   "source": [
    "#Visualizing the minimum temp over time by day:\n",
    "sf.resample('1D').min().plot()"
   ]
  },
  {
   "cell_type": "markdown",
   "id": "6ddcdd5a",
   "metadata": {},
   "source": [
    "## 3. Write the code necessary to visualize the maximum temperature over time."
   ]
  },
  {
   "cell_type": "code",
   "execution_count": null,
   "id": "7e0db7f9",
   "metadata": {},
   "outputs": [],
   "source": [
    "#Visualizing the maximum temp over time by day:\n",
    "sf.resample('1D').max().plot()"
   ]
  },
  {
   "cell_type": "markdown",
   "id": "7fbe866d",
   "metadata": {},
   "source": [
    "## 4. Which month is the coldest, on average?"
   ]
  },
  {
   "cell_type": "code",
   "execution_count": null,
   "id": "d39bef61",
   "metadata": {},
   "outputs": [],
   "source": [
    "#Resampling the data by month and taking the average to find the minimum:\n",
    "monthly = sf.resample('M').mean()\n",
    "monthly"
   ]
  },
  {
   "cell_type": "code",
   "execution_count": null,
   "id": "30d046ac",
   "metadata": {},
   "outputs": [],
   "source": [
    "monthly.idxmin()"
   ]
  },
  {
   "cell_type": "code",
   "execution_count": null,
   "id": "6f15b88e",
   "metadata": {},
   "outputs": [],
   "source": [
    "#My original attempt didn't take into account the *mean* temp for each month. \n",
    "#I used 'asfreq', which ultimately only returned the minimum value for each month.\n",
    "#The issue was resolved once I switched to a monthly resample and specified 'mean'."
   ]
  },
  {
   "cell_type": "code",
   "execution_count": null,
   "id": "1edde2d1",
   "metadata": {
    "scrolled": true
   },
   "outputs": [],
   "source": [
    "monthly = sf.resample('M').mean()\n",
    "monthly"
   ]
  },
  {
   "cell_type": "code",
   "execution_count": null,
   "id": "12cc72c9",
   "metadata": {
    "scrolled": true
   },
   "outputs": [],
   "source": [
    "#Now that monthly has been resampled by the mean temp for each month, I can find the minimum:\n",
    "monthly[monthly.temp == monthly.temp.min()]"
   ]
  },
  {
   "cell_type": "markdown",
   "id": "b66fccfa",
   "metadata": {},
   "source": [
    "## 5. Which month has the highest average temperature?"
   ]
  },
  {
   "cell_type": "code",
   "execution_count": null,
   "id": "e9ebb523",
   "metadata": {},
   "outputs": [],
   "source": [
    "monthly = sf.resample('M').mean()\n",
    "monthly.plot()"
   ]
  },
  {
   "cell_type": "code",
   "execution_count": null,
   "id": "a17e9673",
   "metadata": {},
   "outputs": [],
   "source": [
    "monthly[monthly.temp == monthly.temp.max()]"
   ]
  },
  {
   "cell_type": "markdown",
   "id": "ecb3af32",
   "metadata": {},
   "source": [
    "## 6. Resample by the day and calculate the min and max temp for the day (Hint: .agg(['min', 'max'])). Use this resampled dataframe to calculate the change in temperature for the day. Which month has the highest daily temperature variability?"
   ]
  },
  {
   "cell_type": "code",
   "execution_count": null,
   "id": "daec600a",
   "metadata": {
    "scrolled": true
   },
   "outputs": [],
   "source": [
    "#Resampling the data by day, and creating two columns using .agg to find the min and max:\n",
    "daily = sf.resample('D').temp.agg(['min', 'max'])\n",
    "\n",
    "#Plotting the min and max values by day:\n",
    "daily.plot();"
   ]
  },
  {
   "cell_type": "code",
   "execution_count": null,
   "id": "c0fd72d1",
   "metadata": {},
   "outputs": [],
   "source": [
    "#Creating a column of the range between min and max for each of the days:\n",
    "daily['diffr'] = daily['max'] - daily['min']"
   ]
  },
  {
   "cell_type": "code",
   "execution_count": null,
   "id": "0436566c",
   "metadata": {},
   "outputs": [],
   "source": [
    "#Finding the date of max range in temperature:\n",
    "daily[daily['diffr'] == daily['diffr'].max()]"
   ]
  },
  {
   "cell_type": "code",
   "execution_count": null,
   "id": "846abf2b",
   "metadata": {},
   "outputs": [],
   "source": [
    "#Creating a dataframe that lists the average range of temps by month:\n",
    "monthly_range = pd.DataFrame(daily.resample('M').mean().diffr)"
   ]
  },
  {
   "cell_type": "code",
   "execution_count": null,
   "id": "ab47e1ed",
   "metadata": {},
   "outputs": [],
   "source": [
    "#Creating a column in the dataframe that lists the month by name:\n",
    "monthly_range['month_name'] = monthly_range.index.month_name()"
   ]
  },
  {
   "cell_type": "code",
   "execution_count": null,
   "id": "8598598d",
   "metadata": {},
   "outputs": [],
   "source": [
    "monthly_range"
   ]
  },
  {
   "cell_type": "code",
   "execution_count": null,
   "id": "8ba4ae28",
   "metadata": {},
   "outputs": [],
   "source": [
    "#Finding the month that had the highest average range in temperatures:\n",
    "monthly_range[monthly_range.diffr == monthly_range.diffr.max()]"
   ]
  },
  {
   "cell_type": "markdown",
   "id": "f98b685b",
   "metadata": {},
   "source": [
    "## 7. Bonus: Visualize the daily min, average, and max temperature over time on a single line plot, i.e. the min, average, and maximum temperature should be 3 seperate lines."
   ]
  },
  {
   "cell_type": "code",
   "execution_count": null,
   "id": "9ff20768",
   "metadata": {},
   "outputs": [],
   "source": [
    "#since I created the relevant columns for this up above, I can just plot the data here:\n",
    "daily.plot()"
   ]
  },
  {
   "cell_type": "markdown",
   "id": "7092fcfe",
   "metadata": {},
   "source": [
    "# <span style = 'color:blue'>Seattle Exercises:</span>"
   ]
  },
  {
   "cell_type": "code",
   "execution_count": null,
   "id": "44885dcd",
   "metadata": {},
   "outputs": [],
   "source": [
    "#Acquiring the data:\n",
    "sea = data.seattle_weather()\n",
    "#Setting the dataframe's index to the date:\n",
    "sea = sea.set_index('date')\n",
    "\n",
    "sea.head()"
   ]
  },
  {
   "cell_type": "markdown",
   "id": "cd4d5b27",
   "metadata": {},
   "source": [
    "## 1. Which year and month combination has the highest amount of precipitation?"
   ]
  },
  {
   "cell_type": "code",
   "execution_count": null,
   "id": "ba7f5f10",
   "metadata": {},
   "outputs": [],
   "source": [
    "#Resampling the data by month, and finding the mean precipitation:\n",
    "monthly_weather = sea.resample('M').mean()\n",
    "\n",
    "#Creating a boolean mask that will return the month with the highest mean precipitation:\n",
    "monthly_weather[monthly_weather['precipitation'] == (monthly_weather['precipitation'].max())]"
   ]
  },
  {
   "cell_type": "markdown",
   "id": "743aeef1",
   "metadata": {},
   "source": [
    "## 2. Visualize the amount of monthly precipitation over time."
   ]
  },
  {
   "cell_type": "code",
   "execution_count": null,
   "id": "3a48d305",
   "metadata": {},
   "outputs": [],
   "source": [
    "monthly_weather.precipitation.plot();"
   ]
  },
  {
   "cell_type": "markdown",
   "id": "79bf0560",
   "metadata": {},
   "source": [
    "## 3. Visualize the amount of wind over time. Choose a time interval you think is appropriate."
   ]
  },
  {
   "cell_type": "code",
   "execution_count": null,
   "id": "0c1bd1ee",
   "metadata": {},
   "outputs": [],
   "source": [
    "monthly_weather.wind.plot();"
   ]
  },
  {
   "cell_type": "markdown",
   "id": "3f17f047",
   "metadata": {},
   "source": [
    "## 4. Which year-month combination is the windiest?"
   ]
  },
  {
   "cell_type": "code",
   "execution_count": null,
   "id": "75dda5f9",
   "metadata": {},
   "outputs": [],
   "source": [
    "#Creating a boolean mask that will return the month with the highest average wind:\n",
    "monthly_weather[monthly_weather['wind'] == (monthly_weather['wind'].max())]"
   ]
  },
  {
   "cell_type": "markdown",
   "id": "cc5f5b8f",
   "metadata": {},
   "source": [
    "## 5. What's the sunniest year? (Hint: which day has the highest number of days where weather == sun?)"
   ]
  },
  {
   "cell_type": "code",
   "execution_count": null,
   "id": "7f258d3f",
   "metadata": {},
   "outputs": [],
   "source": [
    "#Creating a 'year' column that will isolate the year from the date index:\n",
    "sea['year'] = sea.index.year\n",
    "\n",
    "sea.head()"
   ]
  },
  {
   "cell_type": "code",
   "execution_count": null,
   "id": "0fd0ebde",
   "metadata": {},
   "outputs": [],
   "source": [
    "# The year with the most sun was 2014.\n",
    "sea.groupby('year').weather.value_counts()\n",
    "\n",
    "# I want to come back and find a better way to isolate the maximum value. \n",
    "#Can I create another boolean mask somehow to keep the dataframe format?"
   ]
  },
  {
   "cell_type": "markdown",
   "id": "c63f0f52",
   "metadata": {},
   "source": [
    "## 6. In which month does it rain the most?"
   ]
  },
  {
   "cell_type": "code",
   "execution_count": null,
   "id": "5c67158b",
   "metadata": {},
   "outputs": [],
   "source": [
    "sea['month'] = sea.index.month_name()\n",
    "sea"
   ]
  },
  {
   "cell_type": "code",
   "execution_count": null,
   "id": "27b554f7",
   "metadata": {},
   "outputs": [],
   "source": [
    "#The month with the most rain was February.\n",
    "sea.groupby('month').weather.value_counts()\n",
    "\n",
    "# I want to come back and find a better way to isolate the maximum value. \n",
    "#Can I create another boolean mask somehow to keep the dataframe format?\n",
    "# It becomes a chore to scroll through this list and find which is the highest. "
   ]
  },
  {
   "cell_type": "markdown",
   "id": "362be0b8",
   "metadata": {},
   "source": [
    "## 7. Which month has the most number of days with a non-zero amount of precipitation?"
   ]
  },
  {
   "cell_type": "code",
   "execution_count": null,
   "id": "e366f2c9",
   "metadata": {},
   "outputs": [],
   "source": [
    "sea.precipitation"
   ]
  },
  {
   "cell_type": "code",
   "execution_count": null,
   "id": "e2a7977b",
   "metadata": {},
   "outputs": [],
   "source": [
    "#Creating a column to show whether it rained on that date:\n",
    "sea['precipitation_true'] = sea.precipitation > 0"
   ]
  },
  {
   "cell_type": "code",
   "execution_count": null,
   "id": "18ff0e22",
   "metadata": {},
   "outputs": [],
   "source": [
    "#Grouping by month to find the highest number of rainy days by month:\n",
    "sea.groupby('month').precipitation_true.sum().sort_values(ascending = False).head(1)"
   ]
  },
  {
   "cell_type": "markdown",
   "id": "0efe0ea1",
   "metadata": {},
   "source": [
    "It is worth considering some possible alternate interpretations of this question:\n",
    "- could it be asking which individual month (rather than *all* Decembers, for example?)\n",
    "- in class, the exercise was completed by finding the highest mean # of rainy days in a month\n",
    "    - it works out in this case, but that could have been misleading, because not all months have the same number of days. So I went with the actual count of rainy days in my answer. \n"
   ]
  },
  {
   "cell_type": "markdown",
   "id": "1767fa97",
   "metadata": {},
   "source": [
    "# <span style = 'color:blue'>Flight Data Exercises:</span>"
   ]
  },
  {
   "cell_type": "code",
   "execution_count": null,
   "id": "db86d2b9",
   "metadata": {},
   "outputs": [],
   "source": [
    "#Acquiring the flight data:\n",
    "fly = data.flights_20k()\n",
    "\n",
    "#Setting the index to the date values:\n",
    "fly = fly.set_index('date')\n",
    "fly"
   ]
  },
  {
   "cell_type": "markdown",
   "id": "bc5f54ca",
   "metadata": {},
   "source": [
    "## 1. Convert any negative delays to 0."
   ]
  },
  {
   "cell_type": "code",
   "execution_count": null,
   "id": "d31ef502",
   "metadata": {},
   "outputs": [],
   "source": [
    "#Selecting loc via a boolean array to select delays that are less than 0, and passing the 'delay' label as an argument to set all applicable values to 0:\n",
    "fly.loc[fly.delay < 0, 'delay'] = 0"
   ]
  },
  {
   "cell_type": "code",
   "execution_count": null,
   "id": "dabea94f",
   "metadata": {},
   "outputs": [],
   "source": [
    "fly"
   ]
  },
  {
   "cell_type": "markdown",
   "id": "6281ba67",
   "metadata": {},
   "source": [
    "## 2. Which hour of the day has the highest average delay?"
   ]
  },
  {
   "cell_type": "code",
   "execution_count": null,
   "id": "d07fe9d4",
   "metadata": {},
   "outputs": [],
   "source": [
    "#Creating an hour column from the date:\n",
    "fly['hour'] = fly.index.hour\n",
    "fly"
   ]
  },
  {
   "cell_type": "code",
   "execution_count": null,
   "id": "834c8e3b",
   "metadata": {},
   "outputs": [],
   "source": [
    "#Finding the mean values for delay and distance by hour of the day and creating a dataframe:\n",
    "hourly_delay = fly.groupby('hour').mean()\n",
    "hourly_delay"
   ]
  },
  {
   "cell_type": "code",
   "execution_count": null,
   "id": "47c8a818",
   "metadata": {},
   "outputs": [],
   "source": [
    "hourly_delay[hourly_delay.delay == hourly_delay.delay.max()]"
   ]
  },
  {
   "cell_type": "markdown",
   "id": "fd894f39",
   "metadata": {},
   "source": [
    "## 3. Does the day of the week make a difference in the delay amount?"
   ]
  },
  {
   "cell_type": "code",
   "execution_count": null,
   "id": "cd9f7a34",
   "metadata": {},
   "outputs": [],
   "source": [
    "#creating a 'day' column from the date index:\n",
    "fly['day'] = fly.index.day_name()"
   ]
  },
  {
   "cell_type": "code",
   "execution_count": null,
   "id": "0be0f055",
   "metadata": {},
   "outputs": [],
   "source": [
    "fly.head()"
   ]
  },
  {
   "cell_type": "code",
   "execution_count": null,
   "id": "0742c9e4",
   "metadata": {},
   "outputs": [],
   "source": [
    "#It appears that Fridays have the highest average delays, so it does appear that weekday affects delays.\n",
    "daily_mean = fly.groupby('day').mean()\n",
    "daily_mean\n",
    "\n",
    "#I want to come back and try to figure out how to order this by the weekday index."
   ]
  },
  {
   "cell_type": "markdown",
   "id": "3c5a111d",
   "metadata": {},
   "source": [
    "## 4. Does the month make a difference in the delay amount?"
   ]
  },
  {
   "cell_type": "code",
   "execution_count": null,
   "id": "a574d4c9",
   "metadata": {},
   "outputs": [],
   "source": [
    "#Creating a 'month' column from the date index:\n",
    "fly['month'] = fly.index.month_name()\n",
    "fly"
   ]
  },
  {
   "cell_type": "code",
   "execution_count": null,
   "id": "956e5998",
   "metadata": {},
   "outputs": [],
   "source": [
    "#Finding the mean values for delay and distance by hour of the day and creating a dataframe:\n",
    "monthly_delay = fly.groupby('month').mean()\n",
    "monthly_delay"
   ]
  },
  {
   "cell_type": "code",
   "execution_count": null,
   "id": "1ef94675",
   "metadata": {},
   "outputs": [],
   "source": [
    "#Creating a boolean mask to select the month with the highest average delay:\n",
    "monthly_delay[monthly_delay.delay == monthly_delay.delay.max()]"
   ]
  },
  {
   "cell_type": "code",
   "execution_count": null,
   "id": "f97bc8f0",
   "metadata": {},
   "outputs": [],
   "source": [
    "monthly_mean = fly.groupby('month').mean()\n",
    "monthly_mean\n",
    "\n",
    "#It appears that there is indeed a relationship between month and mean delay duration.\n",
    "\n",
    "#I want to come back and try to order this by the month index. "
   ]
  }
 ],
 "metadata": {
  "kernelspec": {
   "display_name": "Python 3 (ipykernel)",
   "language": "python",
   "name": "python3"
  },
  "language_info": {
   "codemirror_mode": {
    "name": "ipython",
    "version": 3
   },
   "file_extension": ".py",
   "mimetype": "text/x-python",
   "name": "python",
   "nbconvert_exporter": "python",
   "pygments_lexer": "ipython3",
   "version": "3.9.7"
  }
 },
 "nbformat": 4,
 "nbformat_minor": 5
}
